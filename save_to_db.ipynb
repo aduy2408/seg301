{
 "cells": [
  {
   "cell_type": "code",
   "execution_count": 7,
   "id": "7d6f98f6",
   "metadata": {},
   "outputs": [],
   "source": [
    "import pandas as pd\n",
    "from API_KEYS import  *"
   ]
  },
  {
   "cell_type": "code",
   "execution_count": null,
   "id": "ee4fb365",
   "metadata": {},
   "outputs": [],
   "source": [
    "\n",
    "# Load the CSV file\n",
    "df = pd.read_csv('Monument_database/monument_database_no_summary.csv')\n",
    "\n",
    "# Drop the column by name\n",
    "df = df.drop('language', axis=1)\n",
    "\n",
    "# Save the result back to CSV\n",
    "df.to_csv('your_file_without_column.csv', index=False)"
   ]
  },
  {
   "cell_type": "code",
   "execution_count": null,
   "id": "46a1911c",
   "metadata": {},
   "outputs": [],
   "source": [
    "import pymysql\n",
    "\n",
    "timeout = 10\n",
    "connection = pymysql.connect(\n",
    "  charset=\"utf8mb4\",\n",
    "  connect_timeout=timeout,\n",
    "  cursorclass=pymysql.cursors.DictCursor,\n",
    "  db=\"SEG301\",\n",
    "  host=HOST,\n",
    "  password=PASSWORD,\n",
    "  read_timeout=timeout,\n",
    "  port=22064,\n",
    "  user= USER,\n",
    "  write_timeout=timeout,\n",
    ")\n",
    "  \n"
   ]
  },
  {
   "cell_type": "code",
   "execution_count": null,
   "id": "95fc560c",
   "metadata": {},
   "outputs": [
    {
     "name": "stdout",
     "output_type": "stream",
     "text": [
      "Collecting pymysql\n",
      "  Downloading PyMySQL-1.1.1-py3-none-any.whl.metadata (4.4 kB)\n",
      "Downloading PyMySQL-1.1.1-py3-none-any.whl (44 kB)\n",
      "Installing collected packages: pymysql\n",
      "Successfully installed pymysql-1.1.1\n",
      "Note: you may need to restart the kernel to use updated packages.\n"
     ]
    }
   ],
   "source": [
    "try:\n",
    "  cursor = connection.cursor()\n",
    "  cursor.execute(\"CREATE TABLE mytest (id INTEGER PRIMARY KEY)\")\n",
    "  cursor.execute(\"INSERT INTO mytest (id) VALUES (1), (2)\")\n",
    "  cursor.execute(\"SELECT * FROM mytest\")\n",
    "  print(cursor.fetchall())\n",
    "finally:\n",
    "  connection.close()"
   ]
  },
  {
   "cell_type": "code",
   "execution_count": null,
   "id": "c6ace3d5",
   "metadata": {},
   "outputs": [],
   "source": []
  }
 ],
 "metadata": {
  "kernelspec": {
   "display_name": "3.10.16",
   "language": "python",
   "name": "python3"
  },
  "language_info": {
   "codemirror_mode": {
    "name": "ipython",
    "version": 3
   },
   "file_extension": ".py",
   "mimetype": "text/x-python",
   "name": "python",
   "nbconvert_exporter": "python",
   "pygments_lexer": "ipython3",
   "version": "3.10.16"
  }
 },
 "nbformat": 4,
 "nbformat_minor": 5
}
